{
 "cells": [
  {
   "cell_type": "code",
   "execution_count": 4,
   "metadata": {},
   "outputs": [
    {
     "data": {
      "text/plain": [
       "'\\ndef linear_kernel(xi,xj):\\n    return(np.dot(xi,xj))\\n\\n\\ndef poli_kernel(xi,xj,p):\\n    return (np.dot(xi,xj)+1)**p\\n\\n\\ndef RBF_kernel(xi,xj,sigma):\\n    norm = np.linalg.norm(xi-xj)\\n    return np.exp(-norm**2/(2*sigma**2))\\n\\ndef compute_matrix_P(x,t,kernel):\\n    n = len(x)\\n    P = np.array(n,n)\\n    for i in range(n):\\n        for j in range(n)k = kernel(x,x)\\n\\n\\n\\ndef objective(alpha,P):\\n    \\n    \\n    \\n    return'"
      ]
     },
     "execution_count": 4,
     "metadata": {},
     "output_type": "execute_result"
    }
   ],
   "source": [
    "import numpy as np\n",
    "import random, math \n",
    "from scipy.optimize import minimize\n",
    "import matplotlib.pyplot as plt\n",
    "\n",
    "\n",
    "\n",
    "\n",
    "\n",
    "def linear_kernel(xi,xj):\n",
    "    return(np.dot(xi,xj))\n",
    "\n",
    "\n",
    "def poli_kernel(xi,xj,p):\n",
    "    return (np.dot(xi,xj)+1)**p\n",
    "\n",
    "\n",
    "def RBF_kernel(xi,xj,sigma):\n",
    "    norm = np.linalg.norm(xi-xj)\n",
    "    return np.exp(-norm**2/(2*sigma**2))\n",
    "\n",
    "def compute_matrix_P(x,t,kernel):\n",
    "    n = len(x)\n",
    "    P = np.array(n,n)\n",
    "    for i in range(n):\n",
    "        for j in range(n)k = kernel(x,x)\n",
    "\n",
    "\n",
    "\n",
    "def objective(alpha):\n",
    "    '''\n",
    "    alpha - Nx1 array\n",
    "    P - NxN matrix\n",
    "    '''\n",
    "    \n",
    "    alpha_m = np.dot(alpha,np.transpose(alpha))\n",
    "    np.sum(np.multiply(alpha_m,P))/2 - np.sum(alpha)\n",
    "    \n",
    "\n",
    "\n",
    "\n",
    "    return "
   ]
  }
 ],
 "metadata": {
  "kernelspec": {
   "display_name": "Python 3",
   "language": "python",
   "name": "python3"
  },
  "language_info": {
   "codemirror_mode": {
    "name": "ipython",
    "version": 3
   },
   "file_extension": ".py",
   "mimetype": "text/x-python",
   "name": "python",
   "nbconvert_exporter": "python",
   "pygments_lexer": "ipython3",
   "version": "3.12.0"
  }
 },
 "nbformat": 4,
 "nbformat_minor": 2
}
