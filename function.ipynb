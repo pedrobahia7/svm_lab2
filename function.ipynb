{
 "cells": [
  {
   "cell_type": "code",
   "execution_count": 11,
   "metadata": {},
   "outputs": [],
   "source": [
    "import numpy as np\n",
    "import random, math \n",
    "from scipy.optimize import minimize\n",
    "import matplotlib.pyplot as plt\n",
    "\n",
    "\n",
    "\n",
    "def linear_kernel(xi,xj):\n",
    "    return(np.dot(xi,xj))\n",
    "\n",
    "def poli_kernel(xi,xj,p):\n",
    "    return (np.dot(xi,xj)+1)**p\n",
    "\n",
    "def RBF_kernel(xi,xj,sigma):\n",
    "    norm = np.linalg.norm(xi-xj)\n",
    "    return np.exp(-norm**2/(2*sigma**2))\n",
    "\n",
    "def compute_matrix_P(x,t,n_kernel_args,kernel,*args):\n",
    "    '''\n",
    "    x - array Nxn with inputs \n",
    "    t - array Nx1 with target values   \n",
    "    kernel - kernel function\n",
    "    \n",
    "    '''\n",
    "\n",
    "    t_A = np.dot(t,np.transpose(t))\n",
    "\n",
    "    if n_kernel_args == 0: \n",
    "        K_matrix = [kernel(i, j) for i in x for j in x]\n",
    "    else:     \n",
    "        K_matrix = [kernel(i, j,*args) for i in x for j in x]\n",
    "\n",
    "    n = len(x)\n",
    "    K_matrix = np.array(K_matrix).reshape(n,n)\n",
    "\n",
    "    P =  np.multiply(t_A, K_matrix)\n",
    "    \n",
    "    return P\n",
    "\n",
    "def objective(alpha):\n",
    "    '''\n",
    "    alpha - Nx1 array\n",
    "    P - NxN matrix (global variable)\n",
    "\n",
    "    output - scalar\n",
    "    '''\n",
    "    N = len(P)\n",
    "    alpha = alpha.reshape(N,1)\n",
    "    alpha_m = np.dot(alpha,np.transpose(alpha))\n",
    "    \n",
    "    return ((np.sum(np.multiply(alpha_m,P))/2 - np.sum(alpha)))\n",
    "\n",
    "def zerofun(alpha):\n",
    "    '''\n",
    "    alpha - Nx1 array\n",
    "    targets -  Nx1 array with target values   \n",
    "    \n",
    "    output - scalar\n",
    "    '''\n",
    "    N = len(targets)\n",
    "    alpha = alpha.reshape(N,1)\n",
    "    return np.ndarray.item(np.dot(np.transpose(alpha), targets))\n",
    "\n",
    "def get_b(suport_vectors,n_kernel_args,kernel,*args):\n",
    "    '''\n",
    "    suport_vectors[i][0] = inputs\n",
    "    suport_vectors[i][1] = targets\n",
    "    suport_vectors[i][2] = alpha\n",
    "    \n",
    "    \n",
    "    '''\n",
    "    b = 0\n",
    "    s = suport_vectors[0][0] #s could be any point of the margin in the suport vector \n",
    "    t = suport_vectors[0][1]\n",
    "\n",
    "    if n_kernel_args == 0:\n",
    "        \n",
    "        for i in range(len(suport_vectors)):\n",
    "            b = b + suport_vectors[i][1]*suport_vectors[i][2]*kernel(s,suport_vectors[i][0])\n",
    "    else:\n",
    "        for i in range(len(suport_vectors)):\n",
    "            b = b + suport_vectors[i][1]*suport_vectors[i][2]*kernel(s,suport_vectors[i][0],*args)\n",
    "\n",
    "    return np.ndarray.item(b - t)\n",
    "\n",
    "def svm_classifier(point,suport_vectors,b,n_kernel_args,kernel,*args):\n",
    "    '''\n",
    "    point - 1xn sample to be evaluated\n",
    "    suport_vectors[i][0] = inputs\n",
    "    suport_vectors[i][1] = targets\n",
    "    suport_vectors[i][2] = alpha\n",
    "    '''\n",
    "    \n",
    "    ind = 0 \n",
    "\n",
    "    if n_kernel_args == 0:\n",
    "        for i in range(len(suport_vectors)):\n",
    "            ind = ind + suport_vectors[i][1]*suport_vectors[i][2]*kernel(suport_vectors[i][0],point)\n",
    "    else:\n",
    "        for i in range(len(suport_vectors)):\n",
    "            ind = ind + suport_vectors[i][1]*suport_vectors[i][2]*kernel(suport_vectors[i][0],point,*args)\n",
    "\n",
    "            \n",
    "    return np.ndarray.item((ind - b ))"
   ]
  },
  {
   "cell_type": "code",
   "execution_count": 3,
   "metadata": {},
   "outputs": [],
   "source": [
    "classA = np.concatenate((np.random.randn(10,2)*0.2+[1.5,0.5],np.random.randn(10,2)*0.2+[-1.5,0.5]))\n",
    "classB = np.random.randn(20,2)*0.2+[0.0,-0.5]\n",
    "inputs = np.concatenate((classA,classB))\n",
    "targets = np.concatenate((np.ones(classA.shape[0]),-np.ones(classB.shape[0])))\n",
    "N = inputs.shape[0]#Numberofrows(samples)\n",
    "permute = list(range(N))\n",
    "random.shuffle(permute)\n",
    "inputs = inputs[permute,:]\n",
    "targets = targets[permute]"
   ]
  },
  {
   "cell_type": "code",
   "execution_count": 4,
   "metadata": {},
   "outputs": [],
   "source": [
    "C = 100\n",
    "kernel = linear_kernel\n",
    "n_kernel_args = 0 #used to diferentiate kernels that need extra arguments\n",
    "kernel_args = 0\n",
    "\n",
    "targets = targets.reshape(N,1)\n",
    "P = compute_matrix_P(inputs,targets,n_kernel_args,kernel,kernel_args)\n",
    "alpha0 = np.zeros(N)\n",
    "B = [(0,C) for b in range(N)]\n",
    "XC = {'type':'eq', 'fun': zerofun}\n",
    "\n",
    "ret = minimize(objective, alpha0, bounds=B, constraints=XC)\n",
    "alpha = ret.x.round(5)\n",
    "suport_vectors = [(inputs[i],targets[i],alpha[i]) for i,_ in enumerate(alpha) if alpha[i]!=0 and alpha[i]<C]\n",
    "\n",
    "b = get_b(suport_vectors,n_kernel_args,kernel,kernel_args)\n",
    "\n"
   ]
  },
  {
   "cell_type": "code",
   "execution_count": 5,
   "metadata": {},
   "outputs": [
    {
     "data": {
      "text/plain": [
       "40"
      ]
     },
     "execution_count": 5,
     "metadata": {},
     "output_type": "execute_result"
    }
   ],
   "source": [
    "yhat = []\n",
    "for x in inputs:\n",
    "    yhat.append(svm_classifier(x,suport_vectors,b,n_kernel_args,kernel,kernel_args))\n",
    "\n",
    "yhat =np.array(yhat).reshape(targets.shape)\n",
    "\n",
    "(yhat == targets).sum()"
   ]
  },
  {
   "cell_type": "code",
   "execution_count": 15,
   "metadata": {},
   "outputs": [
    {
     "data": {
      "image/png": "[encoded data removed]",
      "text/plain": [
       "<Figure size 640x480 with 1 Axes>"
      ]
     },
     "metadata": {},
     "output_type": "display_data"
    }
   ],
   "source": [
    "plt.plot([p[0]for p in classA],[p[1]for p in classA],'b.')\n",
    "plt.plot([p[0]for p in classB],[p[1]for p in classB],'r.')\n",
    "plt.plot([p[0][0]for p in suport_vectors],[p[0][1]for p in suport_vectors],'g+')\n",
    "plt.axis('equal')#Force same scale on both axes\n",
    "plt.savefig('svmplot.pdf')#Save a copy in a file\n",
    "plt.show()#Show the plot on the screen\n",
    "\n",
    "\n",
    "\n",
    "\n",
    "\n"
   ]
  },
  {
   "cell_type": "code",
   "execution_count": 16,
   "metadata": {},
   "outputs": [
    {
     "data": {
      "image/png": "[encoded data removed]",
      "text/plain": [
       "<Figure size 640x480 with 1 Axes>"
      ]
     },
     "metadata": {},
     "output_type": "display_data"
    }
   ],
   "source": [
    "plt.plot([p[0]for p in classA],[p[1]for p in classA],'b.')\n",
    "plt.plot([p[0]for p in classB],[p[1]for p in classB],'r.')\n",
    "plt.plot([p[0][0]for p in suport_vectors],[p[0][1]for p in suport_vectors],'g+')\n",
    "plt.axis('equal')#Force same scale on both axes\n",
    "\n",
    "xgrid=np.linspace(-5,5)\n",
    "ygrid=np.linspace(-4,4)\n",
    "grid=np.array([[svm_classifier([x,y],suport_vectors,b,n_kernel_args,kernel,kernel_args) for x in xgrid] for y in ygrid])\n",
    "plt.contour(xgrid,ygrid,grid,(-1.0,0.0,1.0), colors=('red','black','blue'), linewidths=(1,3,1))\n",
    "\n",
    "\n",
    "plt.savefig('svmboundary.pdf')#Save a copy in a file\n",
    "plt.show()#Show the plot on the screen\n"
   ]
  }
 ],
 "metadata": {
  "kernelspec": {
   "display_name": "Python 3",
   "language": "python",
   "name": "python3"
  },
  "language_info": {
   "codemirror_mode": {
    "name": "ipython",
    "version": 3
   },
   "file_extension": ".py",
   "mimetype": "text/x-python",
   "name": "python",
   "nbconvert_exporter": "python",
   "pygments_lexer": "ipython3",
   "version": "3.8.10"
  }
 },
 "nbformat": 4,
 "nbformat_minor": 2
}
